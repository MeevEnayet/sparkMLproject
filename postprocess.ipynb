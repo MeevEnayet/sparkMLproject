{
 "cells": [
  {
   "cell_type": "code",
   "execution_count": 2,
   "metadata": {},
   "outputs": [
    {
     "name": "stderr",
     "output_type": "stream",
     "text": [
      "/var/folders/g2/q3jcknf964n0_zn6thr755dnw_wf5k/T/ipykernel_45296/1649144423.py:11: DeprecationWarning: numpy.core.numeric is deprecated and has been renamed to numpy._core.numeric. The numpy._core namespace contains private NumPy internals and its use is discouraged, as NumPy internals can change without warning in any release. In practice, most real-world usage of numpy.core is to access functionality in the public NumPy API. If that is the case, use the public NumPy API. If not, you are using NumPy internals. If you would still like to access an internal attribute, use numpy._core.numeric._frombuffer.\n",
      "  image_data = pickle.load(f)\n"
     ]
    },
    {
     "name": "stdout",
     "output_type": "stream",
     "text": [
      "Reconstructed images saved to reconstructed_images.\n"
     ]
    }
   ],
   "source": [
    "import os\n",
    "import cv2\n",
    "import pickle\n",
    "import gzip\n",
    "\n",
    "# Path to the compressed image data file\n",
    "image_data_path = 'image_data.pkl.gz'\n",
    "\n",
    "# Load the image data from the compressed file\n",
    "with gzip.open(image_data_path, 'rb') as f:\n",
    "    image_data = pickle.load(f)\n",
    "\n",
    "# Define the folder to save the reconstructed images\n",
    "output_folder = 'reconstructed_images'\n",
    "os.makedirs(output_folder, exist_ok=True)\n",
    "\n",
    "# Reconstruct and save the images\n",
    "for image_name, image in image_data.items():\n",
    "    # Define the output path for the image\n",
    "    output_path = os.path.join(output_folder, f'{image_name}.png')\n",
    "    # Save the image as a PNG file\n",
    "    cv2.imwrite(output_path, image)\n",
    "\n",
    "print(f\"Reconstructed images saved to {output_folder}.\")\n"
   ]
  },
  {
   "cell_type": "code",
   "execution_count": null,
   "metadata": {},
   "outputs": [],
   "source": []
  }
 ],
 "metadata": {
  "kernelspec": {
   "display_name": "myenv",
   "language": "python",
   "name": "python3"
  },
  "language_info": {
   "codemirror_mode": {
    "name": "ipython",
    "version": 3
   },
   "file_extension": ".py",
   "mimetype": "text/x-python",
   "name": "python",
   "nbconvert_exporter": "python",
   "pygments_lexer": "ipython3",
   "version": "3.12.7"
  }
 },
 "nbformat": 4,
 "nbformat_minor": 2
}
